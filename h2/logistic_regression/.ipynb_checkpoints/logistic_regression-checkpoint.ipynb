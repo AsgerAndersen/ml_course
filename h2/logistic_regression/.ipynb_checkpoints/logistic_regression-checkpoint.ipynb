{
 "cells": [
  {
   "cell_type": "code",
   "execution_count": 1,
   "metadata": {
    "collapsed": true
   },
   "outputs": [],
   "source": [
    "import pandas as pd\n",
    "import scipy as scp\n",
    "import scipy.linalg as lalg\n",
    "import matplotlib.pyplot as plt\n",
    "% matplotlib inline"
   ]
  },
  {
   "cell_type": "code",
   "execution_count": 2,
   "metadata": {
    "collapsed": true
   },
   "outputs": [],
   "source": [
    "train = pd.read_table('IrisTrainML.dt', header = None, sep = ' ')\n",
    "test = pd.read_table('IrisTestML.dt', header = None, sep = ' ')"
   ]
  },
  {
   "cell_type": "code",
   "execution_count": 3,
   "metadata": {
    "collapsed": true
   },
   "outputs": [],
   "source": [
    "train.columns = ['feat_1', 'feat_2', 'label']\n",
    "test.columns = ['feat_1', 'feat_2', 'label']"
   ]
  },
  {
   "cell_type": "code",
   "execution_count": 4,
   "metadata": {
    "collapsed": true
   },
   "outputs": [],
   "source": [
    "train = train.loc[train.label != 2, :]\n",
    "test = test.loc[test.label != 2, :]"
   ]
  },
  {
   "cell_type": "code",
   "execution_count": 5,
   "metadata": {
    "collapsed": true
   },
   "outputs": [],
   "source": [
    "def change_label(y) :\n",
    "    if (y == 0) :\n",
    "        return -1\n",
    "    else :\n",
    "        return y"
   ]
  },
  {
   "cell_type": "code",
   "execution_count": 6,
   "metadata": {
    "collapsed": true
   },
   "outputs": [],
   "source": [
    "train['label'] = train['label'].apply(change_label)\n",
    "test['label'] = test['label'].apply(change_label)"
   ]
  },
  {
   "cell_type": "code",
   "execution_count": 7,
   "metadata": {
    "collapsed": true
   },
   "outputs": [],
   "source": [
    "x = train[['feat_1', 'feat_2']].values"
   ]
  },
  {
   "cell_type": "code",
   "execution_count": 8,
   "metadata": {
    "collapsed": true
   },
   "outputs": [],
   "source": [
    "y = train['label'].values"
   ]
  },
  {
   "cell_type": "code",
   "execution_count": 9,
   "metadata": {
    "collapsed": true
   },
   "outputs": [],
   "source": [
    "def gradient(x, y, w, n) :\n",
    "    num = x * y[:,scp.newaxis]\n",
    "    den = scp.dot(x, w) * y\n",
    "    den = scp.exp(den) + 1\n",
    "    quotient = num / den[:,scp.newaxis]\n",
    "    avg = scp.sum(quotient, axis = 0) / n\n",
    "    return - avg"
   ]
  },
  {
   "cell_type": "code",
   "execution_count": 10,
   "metadata": {
    "collapsed": true
   },
   "outputs": [],
   "source": [
    "def terminate(e, error_stop, gnorm, gnorm_stop) :\n",
    "    if ((gnorm < gnorm_stop) and (e < error_stop )) : return True\n",
    "    else : return False"
   ]
  },
  {
   "cell_type": "code",
   "execution_count": 11,
   "metadata": {
    "collapsed": true
   },
   "outputs": [],
   "source": [
    "def error(x, y, classifier, n) :\n",
    "    pred = scp.apply_along_axis(classifier, 1, x)\n",
    "    e = abs((pred - y)) / 2\n",
    "    e = scp.sum(e) / n\n",
    "    return e\n",
    "    "
   ]
  },
  {
   "cell_type": "code",
   "execution_count": 12,
   "metadata": {
    "collapsed": true
   },
   "outputs": [],
   "source": [
    "def make_classifier(w) :\n",
    "    def classifier(x) :\n",
    "        p = scp.exp(scp.dot(x,w))/(1 + scp.exp(scp.dot(x,w)))\n",
    "        if (p > 0.5) : return 1\n",
    "        else : return -1\n",
    "    return classifier"
   ]
  },
  {
   "cell_type": "code",
   "execution_count": 13,
   "metadata": {
    "collapsed": true
   },
   "outputs": [],
   "source": [
    "def log_reg(x, \n",
    "            y, \n",
    "            rate = 0.1, \n",
    "            gnorm_stop = 0.01, \n",
    "            error_stop = 0.05, \n",
    "            iterations_stop = 1000000, \n",
    "            start_weigths = None,\n",
    "            seed = 1989) :\n",
    "    \n",
    "    scp.random.seed(seed)\n",
    "    if (start_weigths == None) : w = scp.random.normal(size = x.shape[1])\n",
    "    else : w = start_weights\n",
    "    \n",
    "    n = x.shape[0]; ws = []; gnorms = []; es = []; i = 1\n",
    "    \n",
    "    while (i <= iterations_stop) : \n",
    "    \n",
    "        ws.append(w)\n",
    "        g = gradient(x, y, w, n); gnorm = lalg.norm(g); gnorms.append(gnorm)\n",
    "        c = make_classifier(w); e = error(x,y,c,n); es.append(e)\n",
    "        \n",
    "        if terminate(e, error_stop, gnorm, gnorm_stop) : break\n",
    "        \n",
    "        w = w + (-g) * rate; i = i + 1\n",
    "    \n",
    "    return {'classifier' : c, \n",
    "            'weights' : w, \n",
    "            'gnorm_history' : scp.array(gnorms), \n",
    "            'weight_history' : scp.array(ws), \n",
    "            'error_history' : scp.array(es)}"
   ]
  },
  {
   "cell_type": "code",
   "execution_count": 14,
   "metadata": {
    "collapsed": true
   },
   "outputs": [],
   "source": [
    "res = log_reg(x, y)"
   ]
  },
  {
   "cell_type": "code",
   "execution_count": 15,
   "metadata": {},
   "outputs": [
    {
     "data": {
      "image/png": "[encoded data removed]",
      "text/plain": [
       "<matplotlib.figure.Figure at 0x7fad94d492b0>"
      ]
     },
     "metadata": {},
     "output_type": "display_data"
    }
   ],
   "source": [
    "fig, ax = plt.subplots(1, 2, figsize = (12, 6))\n",
    "ax[0].plot(res['error_history'])\n",
    "ax[0].set_xlabel('iteration', fontsize = 'large')\n",
    "ax[0].set_ylabel('error', fontsize = 'large')\n",
    "ax[1].plot(scp.arange(3500, len(res['error_history'])), \n",
    "                  res['error_history'][3500:])\n",
    "ax[1].set_xlabel('iteration', fontsize = 'large')\n",
    "fig.savefig('errorplot.jpg')"
   ]
  },
  {
   "cell_type": "code",
   "execution_count": 16,
   "metadata": {},
   "outputs": [
    {
     "data": {
      "image/png": "[encoded data removed]",
      "text/plain": [
       "<matplotlib.figure.Figure at 0x7fad94d49898>"
      ]
     },
     "metadata": {},
     "output_type": "display_data"
    }
   ],
   "source": [
    "fig, ax = plt.subplots(1, 2, figsize = (12, 6))\n",
    "ax[0].plot(res['gnorm_history'])\n",
    "ax[0].set_xlabel('iteration', fontsize = 'large')\n",
    "ax[0].set_ylabel('gradient norm', fontsize = 'large')\n",
    "ax[1].plot(scp.arange(10, len(res['error_history'])),\n",
    "           res['gnorm_history'][10:])\n",
    "ax[1].set_xlabel('iteration', fontsize = 'large')\n",
    "fig.savefig('normplot1.jpg')"
   ]
  },
  {
   "cell_type": "code",
   "execution_count": 19,
   "metadata": {},
   "outputs": [
    {
     "data": {
      "image/png": "[encoded data removed]",
      "text/plain": [
       "<matplotlib.figure.Figure at 0x7fad8d4c1198>"
      ]
     },
     "metadata": {},
     "output_type": "display_data"
    }
   ],
   "source": [
    "plt.plot(res['weight_history'][:,0], label = 'weight_1')\n",
    "plt.plot(res['weight_history'][:,1], label = 'weight_2')\n",
    "plt.xlabel('iteration', fontsize = 'large')\n",
    "plt.ylabel('weight', fontsize = 'large')\n",
    "plt.legend()\n",
    "plt.savefig('weightplot3.jpg')"
   ]
  },
  {
   "cell_type": "code",
   "execution_count": 20,
   "metadata": {},
   "outputs": [
    {
     "data": {
      "text/plain": [
       "array([  1.31495233, -23.28359065])"
      ]
     },
     "execution_count": 20,
     "metadata": {},
     "output_type": "execute_result"
    }
   ],
   "source": [
    "res['weights']"
   ]
  },
  {
   "cell_type": "code",
   "execution_count": 21,
   "metadata": {},
   "outputs": [
    {
     "data": {
      "text/plain": [
       "array([ 0.4516129 ,  0.4516129 ,  0.4516129 , ...,  0.01612903,\n",
       "        0.01612903,  0.01612903])"
      ]
     },
     "execution_count": 21,
     "metadata": {},
     "output_type": "execute_result"
    }
   ],
   "source": [
    "res['error_history']"
   ]
  },
  {
   "cell_type": "code",
   "execution_count": 22,
   "metadata": {
    "collapsed": true
   },
   "outputs": [],
   "source": [
    "x_test = test[['feat_1', 'feat_2']].values"
   ]
  },
  {
   "cell_type": "code",
   "execution_count": 23,
   "metadata": {
    "collapsed": true
   },
   "outputs": [],
   "source": [
    "y_test = test['label'].values"
   ]
  },
  {
   "cell_type": "code",
   "execution_count": 24,
   "metadata": {},
   "outputs": [
    {
     "data": {
      "text/plain": [
       "0.038461538461538464"
      ]
     },
     "execution_count": 24,
     "metadata": {},
     "output_type": "execute_result"
    }
   ],
   "source": [
    "error(x_test,y_test,res['classifier'],x_test.shape[0])"
   ]
  }
 ],
 "metadata": {
  "kernelspec": {
   "display_name": "Python 3",
   "language": "python",
   "name": "python3"
  },
  "language_info": {
   "codemirror_mode": {
    "name": "ipython",
    "version": 3
   },
   "file_extension": ".py",
   "mimetype": "text/x-python",
   "name": "python",
   "nbconvert_exporter": "python",
   "pygments_lexer": "ipython3",
   "version": "3.6.2"
  }
 },
 "nbformat": 4,
 "nbformat_minor": 2
}
