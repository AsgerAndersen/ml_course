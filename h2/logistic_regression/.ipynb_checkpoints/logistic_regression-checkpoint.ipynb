{
 "cells": [
  {
   "cell_type": "code",
   "execution_count": 1,
   "metadata": {
    "collapsed": true
   },
   "outputs": [],
   "source": [
    "import pandas as pd\n",
    "import scipy as scp\n",
    "import scipy.linalg as lalg\n",
    "import matplotlib.pyplot as plt\n",
    "% matplotlib inline"
   ]
  },
  {
   "cell_type": "code",
   "execution_count": 2,
   "metadata": {
    "collapsed": true
   },
   "outputs": [],
   "source": [
    "train = pd.read_table('IrisTrainML.dt', header = None, sep = ' ')\n",
    "test = pd.read_table('IrisTestML.dt', header = None, sep = ' ')"
   ]
  },
  {
   "cell_type": "code",
   "execution_count": 3,
   "metadata": {
    "collapsed": true
   },
   "outputs": [],
   "source": [
    "train.columns = ['feat_1', 'feat_2', 'label']\n",
    "test.columns = ['feat_1', 'feat_2', 'label']"
   ]
  },
  {
   "cell_type": "code",
   "execution_count": 4,
   "metadata": {
    "collapsed": true
   },
   "outputs": [],
   "source": [
    "train = train.loc[train.label != 2, :]\n",
    "test = test.loc[test.label != 2, :]"
   ]
  },
  {
   "cell_type": "code",
   "execution_count": 5,
   "metadata": {
    "collapsed": true
   },
   "outputs": [],
   "source": [
    "def change_label(y) :\n",
    "    if (y == 0) :\n",
    "        return -1\n",
    "    else :\n",
    "        return y"
   ]
  },
  {
   "cell_type": "code",
   "execution_count": 6,
   "metadata": {
    "collapsed": true
   },
   "outputs": [],
   "source": [
    "train['label'] = train['label'].apply(change_label)\n",
    "test['label'] = test['label'].apply(change_label)"
   ]
  },
  {
   "cell_type": "code",
   "execution_count": 7,
   "metadata": {
    "collapsed": true
   },
   "outputs": [],
   "source": [
    "x = train[['feat_1', 'feat_2']].values"
   ]
  },
  {
   "cell_type": "code",
   "execution_count": 8,
   "metadata": {
    "collapsed": true
   },
   "outputs": [],
   "source": [
    "y = train['label'].values"
   ]
  },
  {
   "cell_type": "code",
   "execution_count": 9,
   "metadata": {
    "collapsed": true
   },
   "outputs": [],
   "source": [
    "def gradient(x, y, w, n) :\n",
    "    num = x * y[:,scp.newaxis]\n",
    "    den = scp.dot(x, w) * y\n",
    "    den = scp.exp(den) + 1\n",
    "    quotient = num / den[:,scp.newaxis]\n",
    "    avg = scp.sum(quotient, axis = 0) / n\n",
    "    return - avg"
   ]
  },
  {
   "cell_type": "code",
   "execution_count": 22,
   "metadata": {
    "collapsed": true
   },
   "outputs": [],
   "source": [
    "x1 = scp.array([[1],[1]])\n",
    "y1 = scp.array([1])\n",
    "w1 = scp.array([1])\n",
    "n = 1"
   ]
  },
  {
   "cell_type": "code",
   "execution_count": 25,
   "metadata": {},
   "outputs": [
    {
     "data": {
      "text/plain": [
       "array([-0.53788284])"
      ]
     },
     "execution_count": 25,
     "metadata": {},
     "output_type": "execute_result"
    }
   ],
   "source": [
    "gradient(x1, y1, w1, n)"
   ]
  },
  {
   "cell_type": "code",
   "execution_count": 21,
   "metadata": {},
   "outputs": [
    {
     "data": {
      "text/plain": [
       "0.11920292202211755"
      ]
     },
     "execution_count": 21,
     "metadata": {},
     "output_type": "execute_result"
    }
   ],
   "source": [
    "1/(1+scp.exp(2))"
   ]
  },
  {
   "cell_type": "code",
   "execution_count": 247,
   "metadata": {
    "collapsed": true
   },
   "outputs": [],
   "source": [
    "#improve this one\n",
    "def terminate(e, error_stop, gnorm, gnorm_stop) :\n",
    "    if ((gnorm < gnorm_stop) and (e < error_stop )) : return True\n",
    "    else : return False"
   ]
  },
  {
   "cell_type": "code",
   "execution_count": 226,
   "metadata": {
    "collapsed": true
   },
   "outputs": [],
   "source": [
    "def error(x, y, classifier, n) :\n",
    "    pred = scp.apply_along_axis(classifier, 1, x)\n",
    "    e = abs((pred - y)) / 2\n",
    "    e = scp.sum(e) / n\n",
    "    return e\n",
    "    "
   ]
  },
  {
   "cell_type": "code",
   "execution_count": 195,
   "metadata": {
    "collapsed": true
   },
   "outputs": [],
   "source": [
    "def make_classifier(w) :\n",
    "    def classifier(x) :\n",
    "        p = scp.exp(scp.dot(x,w))/(1 + scp.exp(scp.dot(x,w)))\n",
    "        if (p > 0.5) : return 1\n",
    "        else : return -1\n",
    "    return classifier"
   ]
  },
  {
   "cell_type": "code",
   "execution_count": 1,
   "metadata": {},
   "outputs": [
    {
     "data": {
      "text/plain": [
       "0.016129032258064516"
      ]
     },
     "execution_count": 1,
     "metadata": {},
     "output_type": "execute_result"
    }
   ],
   "source": [
    "# The coarse of the data\n",
    "1/62"
   ]
  },
  {
   "cell_type": "code",
   "execution_count": 3,
   "metadata": {
    "collapsed": true
   },
   "outputs": [],
   "source": [
    "def log_reg(x, \n",
    "            y, \n",
    "            rate = 1, \n",
    "            gnorm_stop = 0.01, \n",
    "            error_stop = 0.05, \n",
    "            iterations_stop = 1000000, \n",
    "            start_weigths = None) :\n",
    "    \n",
    "    if (start_weigths == None) : w = scp.random.normal(size = x.shape[1])\n",
    "    else : w = start_weights\n",
    "    \n",
    "    n = x.shape[0]\n",
    "    ws = []\n",
    "    gnorms = []\n",
    "    es = []\n",
    "    i = 1\n",
    "    \n",
    "    while (i <= iterations_stop) : \n",
    "    \n",
    "        ws.append(w)\n",
    "        g = gradient(x, y, w, n)\n",
    "        gnorm = lalg.norm(g)\n",
    "        gnorms.append(gnorm)\n",
    "        c = make_classifier(w)\n",
    "        e = error(x,y,c,n)\n",
    "        es.append(e)\n",
    "        \n",
    "        if terminate(e, error_stop, gnorm, gnorm_stop) : break\n",
    "        \n",
    "        w = w + (-g) * rate \n",
    "        i = i + 1\n",
    "    \n",
    "    return c, w, scp.array(gnorms), scp.array(ws), scp.array(es)"
   ]
  },
  {
   "cell_type": "code",
   "execution_count": 248,
   "metadata": {
    "collapsed": true
   },
   "outputs": [],
   "source": [
    "c, w, gnorms, ws, es = log_reg(x, y, rate = 0.25, iterations_stop = 100000)"
   ]
  },
  {
   "cell_type": "code",
   "execution_count": 253,
   "metadata": {},
   "outputs": [
    {
     "data": {
      "text/plain": [
       "array([  1.31504769, -23.28526441])"
      ]
     },
     "execution_count": 253,
     "metadata": {},
     "output_type": "execute_result"
    }
   ],
   "source": [
    "w"
   ]
  },
  {
   "cell_type": "code",
   "execution_count": 254,
   "metadata": {},
   "outputs": [
    {
     "data": {
      "text/plain": [
       "array([ 0.00999916])"
      ]
     },
     "execution_count": 254,
     "metadata": {},
     "output_type": "execute_result"
    }
   ],
   "source": [
    "gnorms[-1:]"
   ]
  },
  {
   "cell_type": "code",
   "execution_count": 249,
   "metadata": {},
   "outputs": [
    {
     "data": {
      "text/plain": [
       "0.016129032258064516"
      ]
     },
     "execution_count": 249,
     "metadata": {},
     "output_type": "execute_result"
    }
   ],
   "source": [
    "error(x, y, c, x.shape[0])"
   ]
  },
  {
   "cell_type": "code",
   "execution_count": 250,
   "metadata": {},
   "outputs": [
    {
     "data": {
      "text/plain": [
       "[<matplotlib.lines.Line2D at 0x7f73b7cd8ac8>]"
      ]
     },
     "execution_count": 250,
     "metadata": {},
     "output_type": "execute_result"
    },
    {
     "data": {
      "image/png": "[encoded data removed]",
      "text/plain": [
       "<matplotlib.figure.Figure at 0x7f73b83513c8>"
      ]
     },
     "metadata": {},
     "output_type": "display_data"
    }
   ],
   "source": [
    "plt.plot(es[:])"
   ]
  },
  {
   "cell_type": "code",
   "execution_count": 251,
   "metadata": {},
   "outputs": [
    {
     "data": {
      "text/plain": [
       "[<matplotlib.lines.Line2D at 0x7f73b809f198>]"
      ]
     },
     "execution_count": 251,
     "metadata": {},
     "output_type": "execute_result"
    },
    {
     "data": {
      "image/png": "[encoded data removed]",
      "text/plain": [
       "<matplotlib.figure.Figure at 0x7f73b7d06358>"
      ]
     },
     "metadata": {},
     "output_type": "display_data"
    }
   ],
   "source": [
    "plt.plot(norms[:])"
   ]
  },
  {
   "cell_type": "code",
   "execution_count": 252,
   "metadata": {},
   "outputs": [
    {
     "data": {
      "text/plain": [
       "[<matplotlib.lines.Line2D at 0x7f73b81245c0>]"
      ]
     },
     "execution_count": 252,
     "metadata": {},
     "output_type": "execute_result"
    },
    {
     "data": {
      "image/png": "[encoded data removed]",
      "text/plain": [
       "<matplotlib.figure.Figure at 0x7f73b8124630>"
      ]
     },
     "metadata": {},
     "output_type": "display_data"
    }
   ],
   "source": [
    "plt.plot(ws[:,0])\n",
    "plt.plot(ws[:,1])"
   ]
  },
  {
   "cell_type": "code",
   "execution_count": null,
   "metadata": {
    "collapsed": true
   },
   "outputs": [],
   "source": []
  }
 ],
 "metadata": {
  "kernelspec": {
   "display_name": "Python 3",
   "language": "python",
   "name": "python3"
  },
  "language_info": {
   "codemirror_mode": {
    "name": "ipython",
    "version": 3
   },
   "file_extension": ".py",
   "mimetype": "text/x-python",
   "name": "python",
   "nbconvert_exporter": "python",
   "pygments_lexer": "ipython3",
   "version": "3.6.2"
  }
 },
 "nbformat": 4,
 "nbformat_minor": 2
}
