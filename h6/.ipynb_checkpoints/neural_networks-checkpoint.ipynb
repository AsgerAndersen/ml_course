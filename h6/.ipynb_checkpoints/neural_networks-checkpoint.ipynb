{
 "cells": [
  {
   "cell_type": "code",
   "execution_count": 1,
   "metadata": {},
   "outputs": [],
   "source": [
    "import pandas as pd\n",
    "import scipy as scp\n",
    "import matplotlib.pyplot as plt\n",
    "% matplotlib inline"
   ]
  },
  {
   "cell_type": "code",
   "execution_count": 5,
   "metadata": {
    "collapsed": true
   },
   "outputs": [],
   "source": [
    "train = pd.read_table('sincTrain25.dt', header = None, sep = ' ')\n",
    "val = pd.read_table('sincValidate10.dt', header = None, sep = ' ')"
   ]
  },
  {
   "cell_type": "code",
   "execution_count": 14,
   "metadata": {
    "collapsed": true
   },
   "outputs": [],
   "source": [
    "train.columns = ['x', 'y']\n",
    "val.columns = ['x', 'y']"
   ]
  },
  {
   "cell_type": "code",
   "execution_count": 16,
   "metadata": {},
   "outputs": [
    {
     "data": {
      "text/html": [
       "<div>\n",
       "<style>\n",
       "    .dataframe thead tr:only-child th {\n",
       "        text-align: right;\n",
       "    }\n",
       "\n",
       "    .dataframe thead th {\n",
       "        text-align: left;\n",
       "    }\n",
       "\n",
       "    .dataframe tbody tr th {\n",
       "        vertical-align: top;\n",
       "    }\n",
       "</style>\n",
       "<table border=\"1\" class=\"dataframe\">\n",
       "  <thead>\n",
       "    <tr style=\"text-align: right;\">\n",
       "      <th></th>\n",
       "      <th>x</th>\n",
       "      <th>y</th>\n",
       "    </tr>\n",
       "  </thead>\n",
       "  <tbody>\n",
       "    <tr>\n",
       "      <th>0</th>\n",
       "      <td>5.94911</td>\n",
       "      <td>-0.108044</td>\n",
       "    </tr>\n",
       "  </tbody>\n",
       "</table>\n",
       "</div>"
      ],
      "text/plain": [
       "         x         y\n",
       "0  5.94911 -0.108044"
      ]
     },
     "execution_count": 16,
     "metadata": {},
     "output_type": "execute_result"
    }
   ],
   "source": [
    "train.head(1)"
   ]
  },
  {
   "cell_type": "code",
   "execution_count": 18,
   "metadata": {},
   "outputs": [
    {
     "data": {
      "text/html": [
       "<div>\n",
       "<style>\n",
       "    .dataframe thead tr:only-child th {\n",
       "        text-align: right;\n",
       "    }\n",
       "\n",
       "    .dataframe thead th {\n",
       "        text-align: left;\n",
       "    }\n",
       "\n",
       "    .dataframe tbody tr th {\n",
       "        vertical-align: top;\n",
       "    }\n",
       "</style>\n",
       "<table border=\"1\" class=\"dataframe\">\n",
       "  <thead>\n",
       "    <tr style=\"text-align: right;\">\n",
       "      <th></th>\n",
       "      <th>x</th>\n",
       "      <th>y</th>\n",
       "    </tr>\n",
       "  </thead>\n",
       "  <tbody>\n",
       "    <tr>\n",
       "      <th>0</th>\n",
       "      <td>-4.5316</td>\n",
       "      <td>-0.228174</td>\n",
       "    </tr>\n",
       "  </tbody>\n",
       "</table>\n",
       "</div>"
      ],
      "text/plain": [
       "        x         y\n",
       "0 -4.5316 -0.228174"
      ]
     },
     "execution_count": 18,
     "metadata": {},
     "output_type": "execute_result"
    }
   ],
   "source": [
    "val.head(1)"
   ]
  },
  {
   "cell_type": "code",
   "execution_count": 19,
   "metadata": {},
   "outputs": [
    {
     "data": {
      "text/plain": [
       "<matplotlib.collections.PathCollection at 0x7f58a4443c18>"
      ]
     },
     "execution_count": 19,
     "metadata": {},
     "output_type": "execute_result"
    },
    {
     "data": {
      "image/png": "[encoded data removed]",
      "text/plain": [
       "<matplotlib.figure.Figure at 0x7f58a440e0f0>"
      ]
     },
     "metadata": {},
     "output_type": "display_data"
    }
   ],
   "source": [
    "plt.scatter(train.x, train.y)"
   ]
  },
  {
   "cell_type": "code",
   "execution_count": 20,
   "metadata": {},
   "outputs": [
    {
     "data": {
      "text/plain": [
       "<matplotlib.collections.PathCollection at 0x7f58a4331940>"
      ]
     },
     "execution_count": 20,
     "metadata": {},
     "output_type": "execute_result"
    },
    {
     "data": {
      "image/png": "[encoded data removed]",
      "text/plain": [
       "<matplotlib.figure.Figure at 0x7f58a44c6be0>"
      ]
     },
     "metadata": {},
     "output_type": "display_data"
    }
   ],
   "source": [
    "plt.scatter(val.x, val.y)"
   ]
  },
  {
   "cell_type": "code",
   "execution_count": 8,
   "metadata": {},
   "outputs": [],
   "source": [
    "class Node :\n",
    "    \n",
    "    def __init__(self, weights, activation) :\n",
    "        self.weights = weights\n",
    "        self.activation = activation\n",
    "    \n",
    "    def fire(self, signal) :\n",
    "        integration = scp.inner(self.weights, signal)\n",
    "        return self.activation(integration)"
   ]
  },
  {
   "cell_type": "code",
   "execution_count": 5,
   "metadata": {
    "collapsed": true
   },
   "outputs": [],
   "source": [
    "def inner_node_act(a) :\n",
    "    return (a / (1 + abs(a)))"
   ]
  },
  {
   "cell_type": "code",
   "execution_count": 78,
   "metadata": {},
   "outputs": [],
   "source": [
    "#Put den ind som klasse metode i Network klassen\n",
    "def build_network(structure, inner_activation, outer_activation) :\n",
    "    \n",
    "    outer_weights = scp.randn(structure[-1],structure[-2]) / 10\n",
    "    \n",
    "    outer_nodes =  [Node(w, outer_activation) for w in outer_weights]\n",
    "    \n",
    "    if (len(structure) == 2) : \n",
    "        \n",
    "        return [outer_nodes]\n",
    "    \n",
    "    else :\n",
    "        \n",
    "        structure = structure[:-1]\n",
    "        \n",
    "        nodes = []\n",
    "        \n",
    "        for i in range(0, len(structure)-1) :\n",
    "            \n",
    "            layer_weights = scp.randn(structure[i+1],structure[i]) / 10\n",
    "    \n",
    "            layer_nodes =  [Node(w, inner_activation) for w in layer_weights]\n",
    "            \n",
    "            nodes.append(layer_nodes)\n",
    "        \n",
    "        nodes.append(outer_nodes)\n",
    "        \n",
    "        return nodes"
   ]
  },
  {
   "cell_type": "code",
   "execution_count": 30,
   "metadata": {},
   "outputs": [],
   "source": [
    "class Network :\n",
    "\n",
    "    def __init__(self, structure, inner_activation, outer_activation) :\n",
    "        self.structure = structure\n",
    "        self.inner_activation = inner_activation\n",
    "        self.outer_activation = outer_activation\n",
    "    \n",
    "    def build_network(self) :\n",
    "        \n",
    "        outer_weights = scp.randn(self.structure[-1], self.structure[-2]) / 10\n",
    "        outer_nodes =  [Node(w, self.outer_activation) for w in outer_weights]\n",
    "\n",
    "        if (len(self.structure) == 2) : \n",
    "\n",
    "            self.nodes = [outer_nodes]\n",
    "            \n",
    "            return\n",
    "\n",
    "        else :\n",
    "\n",
    "            structure = self.structure[:-1]\n",
    "\n",
    "            nodes = []\n",
    "\n",
    "            for i in range(0, len(structure)-1) :\n",
    "\n",
    "                layer_weights = scp.randn(structure[i+1],structure[i]) / 10\n",
    "\n",
    "                layer_nodes =  [Node(w, self.inner_activation) for w in layer_weights]\n",
    "\n",
    "                nodes.append(layer_nodes)\n",
    "\n",
    "            nodes.append(outer_nodes)\n",
    "\n",
    "            self.nodes = nodes\n",
    "            \n",
    "            return\n",
    "    \n",
    "    def empirical_loss_gradient(self, signal, labels) :\n",
    "        \"start by a simple forward pass\"\n",
    "        signals = []\n",
    "        \n",
    "        for layer in self.nodes :\n",
    "            signal = [node.fire(signal) for node in layer]\n",
    "            signals.append[signal]\n",
    "            \n",
    "        return signals\n",
    "    \n",
    "    def train(self, sample, labels) :\n",
    "        \"implement gradient based training\"\n",
    "\n",
    "    def predict(self, signal) : \n",
    "        for layer in self.nodes :\n",
    "            signal = [node.fire(signal) for node in layer]\n",
    "        return signal"
   ]
  },
  {
   "cell_type": "code",
   "execution_count": 26,
   "metadata": {
    "collapsed": true
   },
   "outputs": [],
   "source": [
    "n = Network([10,5,3], inner_node_act, lambda x : x)"
   ]
  },
  {
   "cell_type": "code",
   "execution_count": 27,
   "metadata": {},
   "outputs": [],
   "source": [
    "n.build_network()"
   ]
  },
  {
   "cell_type": "code",
   "execution_count": 28,
   "metadata": {},
   "outputs": [
    {
     "data": {
      "text/plain": [
       "[[<__main__.Node at 0x7fd05cc58550>,\n",
       "  <__main__.Node at 0x7fd05cc58630>,\n",
       "  <__main__.Node at 0x7fd05cc58278>,\n",
       "  <__main__.Node at 0x7fd05cc586d8>,\n",
       "  <__main__.Node at 0x7fd05cc584e0>],\n",
       " [<__main__.Node at 0x7fd05cc58320>,\n",
       "  <__main__.Node at 0x7fd05cc586a0>,\n",
       "  <__main__.Node at 0x7fd05cc58438>]]"
      ]
     },
     "execution_count": 28,
     "metadata": {},
     "output_type": "execute_result"
    }
   ],
   "source": [
    "n.nodes"
   ]
  },
  {
   "cell_type": "code",
   "execution_count": 29,
   "metadata": {},
   "outputs": [
    {
     "data": {
      "text/plain": [
       "[-0.0058148589598041997, 0.028016916902844739, 0.027429752430341264]"
      ]
     },
     "execution_count": 29,
     "metadata": {},
     "output_type": "execute_result"
    }
   ],
   "source": [
    "n.predict(scp.randn(10))"
   ]
  }
 ],
 "metadata": {
  "kernelspec": {
   "display_name": "Python 3",
   "language": "python",
   "name": "python3"
  },
  "language_info": {
   "codemirror_mode": {
    "name": "ipython",
    "version": 3
   },
   "file_extension": ".py",
   "mimetype": "text/x-python",
   "name": "python",
   "nbconvert_exporter": "python",
   "pygments_lexer": "ipython3",
   "version": "3.6.2"
  }
 },
 "nbformat": 4,
 "nbformat_minor": 2
}
