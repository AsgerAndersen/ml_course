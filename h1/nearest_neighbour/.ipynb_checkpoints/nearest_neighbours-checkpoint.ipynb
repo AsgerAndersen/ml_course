{
 "cells": [
  {
   "cell_type": "code",
   "execution_count": 1,
   "metadata": {
    "collapsed": true
   },
   "outputs": [],
   "source": [
    "#change to scipy instead of numpy\n",
    "\n",
    "import pandas as pd\n",
    "import numpy as np\n",
    "import feather\n",
    "import matplotlib.pyplot as plt\n",
    "%matplotlib inline"
   ]
  },
  {
   "cell_type": "code",
   "execution_count": 2,
   "metadata": {},
   "outputs": [
    {
     "data": {
      "text/plain": [
       "('1.13.1', '0.20.3')"
      ]
     },
     "execution_count": 2,
     "metadata": {},
     "output_type": "execute_result"
    }
   ],
   "source": [
    "np.__version__, pd.__version__"
   ]
  },
  {
   "cell_type": "code",
   "execution_count": 3,
   "metadata": {
    "collapsed": true
   },
   "outputs": [],
   "source": [
    "labeled_train = pd.concat([feather.read_dataframe('digits-train.feather'), \n",
    "                           feather.read_dataframe('digits-train-labels.feather')],\n",
    "                           axis = 1)"
   ]
  },
  {
   "cell_type": "code",
   "execution_count": 4,
   "metadata": {
    "collapsed": true
   },
   "outputs": [],
   "source": [
    "labeled_test = pd.concat([feather.read_dataframe('digits-test.feather'), \n",
    "                          feather.read_dataframe('digits-test-labels.feather')],\n",
    "                          axis = 1)"
   ]
  },
  {
   "cell_type": "code",
   "execution_count": 5,
   "metadata": {
    "collapsed": true
   },
   "outputs": [],
   "source": [
    "def binary_representation(label, target_label) :\n",
    "    if (label == target_label) : return 1\n",
    "    else : return -1"
   ]
  },
  {
   "cell_type": "code",
   "execution_count": 6,
   "metadata": {
    "collapsed": true
   },
   "outputs": [],
   "source": [
    "def choose_digits(labeled_digits, labels) :\n",
    "    chosen = labeled_digits.loc[labeled_digits.label.isin(labels), :].copy()\n",
    "    chosen.label = chosen.label.apply(lambda x : binary_representation(x, labels[0]))\n",
    "    return chosen"
   ]
  },
  {
   "cell_type": "code",
   "execution_count": 7,
   "metadata": {
    "collapsed": true
   },
   "outputs": [],
   "source": [
    "def validation_split(labeled_train, frac, seed) :\n",
    "    n = round(len(labeled_train) * frac)\n",
    "    labeled_val = labeled_train.sample(n, axis = 0, random_state = seed, replace = False)\n",
    "    labeled_train = labeled_train.loc[~labeled_train.index.isin(labeled_val.index), :]\n",
    "    return labeled_train, labeled_val"
   ]
  },
  {
   "cell_type": "code",
   "execution_count": 8,
   "metadata": {
    "collapsed": true
   },
   "outputs": [],
   "source": [
    "def values_label_split(labeled_values) :\n",
    "    labels = labeled_values.label.values\n",
    "    values = labeled_values.drop('label', axis = 1).values\n",
    "    return values, labels"
   ]
  },
  {
   "cell_type": "code",
   "execution_count": 9,
   "metadata": {
    "collapsed": true
   },
   "outputs": [],
   "source": [
    "def distances(train_values, test_value) :\n",
    "    x = train_values - test_value\n",
    "    y = np.dot(x, x.T)\n",
    "    return np.diagonal(y)"
   ]
  },
  {
   "cell_type": "code",
   "execution_count": 145,
   "metadata": {
    "collapsed": true
   },
   "outputs": [],
   "source": [
    "def predict(train_values, train_labels, test_value) :\n",
    "    \n",
    "    dist = distances(train_values, test_value)\n",
    "    idx = np.argsort(dist)\n",
    "    neighbour_sorted_labels = train_labels[idx]\n",
    "    predictions = np.sign(np.cumsum(neighbour_sorted_labels))\n",
    "    \n",
    "    return predictions\n",
    "    "
   ]
  },
  {
   "cell_type": "code",
   "execution_count": 154,
   "metadata": {
    "collapsed": true
   },
   "outputs": [],
   "source": [
    "def predict_all(train_values, train_labels, test_values) :\n",
    "\n",
    "    result = [predict(train_values, train_labels, test_value) for test_value in test_values]\n",
    "    result = pd.DataFrame(result)\n",
    "    #result.columns = [str(i) for i in range(1,result.shape[1]+1)]\n",
    "    result.replace(0, np.nan)\n",
    "    \n",
    "    return result"
   ]
  },
  {
   "cell_type": "code",
   "execution_count": 155,
   "metadata": {
    "collapsed": true
   },
   "outputs": [],
   "source": [
    "def find_errors(predictions, test_labels) :\n",
    "    return predictions.apply(lambda col : abs(col - test_labels)/2, axis = 0)"
   ]
  },
  {
   "cell_type": "code",
   "execution_count": 156,
   "metadata": {
    "collapsed": true
   },
   "outputs": [],
   "source": [
    "def find_accuracy(errors) :\n",
    "    return 1 - errors.mean(axis = 0)"
   ]
  },
  {
   "cell_type": "code",
   "execution_count": 157,
   "metadata": {
    "collapsed": true
   },
   "outputs": [],
   "source": [
    "def run_experiment(labeled_train, labeled_test, target_labels, val_frac = 0.2, seed = 1989) :\n",
    "    \n",
    "    labeled_train = choose_digits(labeled_train, target_labels)\n",
    "    labeled_test = choose_digits(labeled_test, target_labels)\n",
    "    labeled_train, labeled_val = validation_split(labeled_train, val_frac, seed)\n",
    "    train_values, train_labels = values_label_split(labeled_train)\n",
    "    val_values, val_labels = values_label_split(labeled_val)\n",
    "    #test_values, test_labels = values_label_split(labeled_test)\n",
    "    \n",
    "    predictions = predict_all(train_values, train_labels, val_values)\n",
    "    errors = find_errors(predictions, val_labels)\n",
    "    accuracies = find_accuracy(errors)\n",
    "    \n",
    "    return train_values, train_labels, val_values, val_labels, predictions, errors, accuracies\n",
    "    \n",
    "    #use the validation errors to choose k and then run on test set to get test error?\n",
    "    #should I use cross validation?\n",
    "    "
   ]
  },
  {
   "cell_type": "code",
   "execution_count": 179,
   "metadata": {},
   "outputs": [
    {
     "name": "stdout",
     "output_type": "stream",
     "text": [
      "CPU times: user 1min 13s, sys: 256 ms, total: 1min 14s\n",
      "Wall time: 38.1 s\n"
     ]
    }
   ],
   "source": [
    "%time tv, tl, vv, vl, pred, err, acc = run_experiment(labeled_train, labeled_test, [9,4])"
   ]
  },
  {
   "cell_type": "code",
   "execution_count": 182,
   "metadata": {},
   "outputs": [
    {
     "data": {
      "text/plain": [
       "[<matplotlib.lines.Line2D at 0x7fa637e57160>]"
      ]
     },
     "execution_count": 182,
     "metadata": {},
     "output_type": "execute_result"
    },
    {
     "data": {
      "image/png": "[encoded data removed]",
      "text/plain": [
       "<matplotlib.figure.Figure at 0x7fa63db326a0>"
      ]
     },
     "metadata": {},
     "output_type": "display_data"
    }
   ],
   "source": [
    "plt.plot(acc[:500])"
   ]
  },
  {
   "cell_type": "code",
   "execution_count": 181,
   "metadata": {},
   "outputs": [
    {
     "data": {
      "text/plain": [
       "0    0.964286\n",
       "1    0.955357\n",
       "2    0.971939\n",
       "3    0.959184\n",
       "4    0.977041\n",
       "5    0.970663\n",
       "6    0.974490\n",
       "7    0.975765\n",
       "8    0.974490\n",
       "9    0.971939\n",
       "dtype: float64"
      ]
     },
     "execution_count": 181,
     "metadata": {},
     "output_type": "execute_result"
    }
   ],
   "source": [
    "acc[:10]"
   ]
  },
  {
   "cell_type": "code",
   "execution_count": null,
   "metadata": {
    "collapsed": true
   },
   "outputs": [],
   "source": []
  }
 ],
 "metadata": {
  "kernelspec": {
   "display_name": "Python 3",
   "language": "python",
   "name": "python3"
  },
  "language_info": {
   "codemirror_mode": {
    "name": "ipython",
    "version": 3
   },
   "file_extension": ".py",
   "mimetype": "text/x-python",
   "name": "python",
   "nbconvert_exporter": "python",
   "pygments_lexer": "ipython3",
   "version": "3.6.2"
  }
 },
 "nbformat": 4,
 "nbformat_minor": 2
}
