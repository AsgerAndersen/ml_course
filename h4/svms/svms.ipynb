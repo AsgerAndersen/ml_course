{
 "cells": [
  {
   "cell_type": "code",
   "execution_count": 1,
   "metadata": {
    "collapsed": true
   },
   "outputs": [],
   "source": [
    "import pandas as pd\n",
    "import scipy as scp\n",
    "from sklearn import preprocessing\n",
    "from sklearn.svm import SVC\n",
    "from sklearn.model_selection import GridSearchCV\n",
    "import matplotlib.pyplot as plt\n",
    "import seaborn as sns\n",
    "% matplotlib inline"
   ]
  },
  {
   "cell_type": "code",
   "execution_count": 2,
   "metadata": {
    "collapsed": true
   },
   "outputs": [],
   "source": [
    "park_train = pd.read_table('parkinsonsTrainStatML.dt', header = None, sep = ' ')\n",
    "park_test = pd.read_table('parkinsonsTestStatML.dt', header = None, sep = ' ')"
   ]
  },
  {
   "cell_type": "code",
   "execution_count": 3,
   "metadata": {
    "collapsed": true
   },
   "outputs": [],
   "source": [
    "park_train_labels = park_train.iloc[:,-1].values\n",
    "park_train = park_train.iloc[:,:-1].values\n",
    "park_test_labels = park_test.iloc[:,-1].values\n",
    "park_test = park_test.iloc[:,:-1].values"
   ]
  },
  {
   "cell_type": "code",
   "execution_count": 4,
   "metadata": {
    "collapsed": true
   },
   "outputs": [],
   "source": [
    "normalize = preprocessing.StandardScaler().fit(park_train)"
   ]
  },
  {
   "cell_type": "code",
   "execution_count": 5,
   "metadata": {
    "collapsed": true
   },
   "outputs": [],
   "source": [
    "x_train = normalize.transform(park_train)\n",
    "y_train = park_train_labels\n",
    "x_test = normalize.transform(park_test)\n",
    "y_test = park_test_labels"
   ]
  },
  {
   "cell_type": "code",
   "execution_count": 6,
   "metadata": {},
   "outputs": [],
   "source": [
    "param_grid = {'C' : scp.logspace(-2,4,7), 'gamma' : scp.logspace(-4,2,7)}"
   ]
  },
  {
   "cell_type": "code",
   "execution_count": 7,
   "metadata": {
    "collapsed": true
   },
   "outputs": [],
   "source": [
    "clf = GridSearchCV(SVC(kernel = 'rbf'), param_grid)"
   ]
  },
  {
   "cell_type": "code",
   "execution_count": 8,
   "metadata": {},
   "outputs": [
    {
     "data": {
      "text/plain": [
       "GridSearchCV(cv=None, error_score='raise',\n",
       "       estimator=SVC(C=1.0, cache_size=200, class_weight=None, coef0=0.0,\n",
       "  decision_function_shape='ovr', degree=3, gamma='auto', kernel='rbf',\n",
       "  max_iter=-1, probability=False, random_state=None, shrinking=True,\n",
       "  tol=0.001, verbose=False),\n",
       "       fit_params=None, iid=True, n_jobs=1,\n",
       "       param_grid={'C': array([  1.00000e-02,   1.00000e-01,   1.00000e+00,   1.00000e+01,\n",
       "         1.00000e+02,   1.00000e+03,   1.00000e+04]), 'gamma': array([  1.00000e-04,   1.00000e-03,   1.00000e-02,   1.00000e-01,\n",
       "         1.00000e+00,   1.00000e+01,   1.00000e+02])},\n",
       "       pre_dispatch='2*n_jobs', refit=True, return_train_score=True,\n",
       "       scoring=None, verbose=0)"
      ]
     },
     "execution_count": 8,
     "metadata": {},
     "output_type": "execute_result"
    }
   ],
   "source": [
    "clf.fit(x_train,y_train)"
   ]
  },
  {
   "cell_type": "code",
   "execution_count": 9,
   "metadata": {},
   "outputs": [
    {
     "data": {
      "text/plain": [
       "0.90721649484536082"
      ]
     },
     "execution_count": 9,
     "metadata": {},
     "output_type": "execute_result"
    }
   ],
   "source": [
    "1 - sum(abs(clf.predict(x_test) - y_test))/len(y_test)"
   ]
  },
  {
   "cell_type": "code",
   "execution_count": 10,
   "metadata": {},
   "outputs": [],
   "source": [
    "cross_results = pd.DataFrame(clf.cv_results_)[['mean_test_score','params']]\n",
    "cross_results['C'] = cross_results.params.apply(lambda d : d['C'])\n",
    "cross_results['gamma'] = cross_results.params.apply(lambda d : d['gamma'])\n",
    "cross_results = cross_results.rename(columns = {'mean_test_score' : 'mean_val_score'})\n",
    "cross_results = cross_results.drop('params', axis=1)\n",
    "cross_results = cross_results.pivot(index = 'C', columns = 'gamma', values = 'mean_val_score')"
   ]
  },
  {
   "cell_type": "code",
   "execution_count": 11,
   "metadata": {},
   "outputs": [
    {
     "data": {
      "image/png": "[encoded data removed]",
      "text/plain": [
       "<matplotlib.figure.Figure at 0x7f24a963f7f0>"
      ]
     },
     "metadata": {},
     "output_type": "display_data"
    }
   ],
   "source": [
    "heatmap = sns.heatmap(cross_results, annot = True)\n",
    "heatmap = heatmap.get_figure()\n",
    "heatmap.savefig('cv_heatmap.jpg', bbox_inches='tight')"
   ]
  },
  {
   "cell_type": "code",
   "execution_count": 12,
   "metadata": {},
   "outputs": [
    {
     "data": {
      "text/plain": [
       "({'C': 10.0, 'gamma': 0.10000000000000001}, 0.90816326530612246)"
      ]
     },
     "execution_count": 12,
     "metadata": {},
     "output_type": "execute_result"
    }
   ],
   "source": [
    "clf.best_params_, clf.best_score_"
   ]
  },
  {
   "cell_type": "code",
   "execution_count": 12,
   "metadata": {},
   "outputs": [],
   "source": [
    "def make_norm_table(before, after, name) :\n",
    "    table = pd.DataFrame({'mean' : scp.mean(before, axis = 0), \n",
    "                          'std' : scp.std(before, axis = 0),\n",
    "                          'norm. mean' : scp.mean(after, axis = 0),\n",
    "                          'norm. std' : scp.std(after, axis = 0)},\n",
    "                          index = range(1,23))\n",
    "    table.index.name = 'Feat.'\n",
    "    cols = table.columns\n",
    "    cols = scp.array([cols[0], cols[3], cols[1], cols[2]])\n",
    "    table = table[cols]\n",
    "    table = table.reset_index()\n",
    "    table = table.round(4)\n",
    "    table['norm. mean'] = abs(table['norm. mean'])\n",
    "    table.to_latex(buf=name, index=False)"
   ]
  },
  {
   "cell_type": "code",
   "execution_count": 14,
   "metadata": {},
   "outputs": [],
   "source": [
    "make_norm_table(park_train,x_train,'train_norm_table.tex')"
   ]
  },
  {
   "cell_type": "code",
   "execution_count": 13,
   "metadata": {
    "collapsed": true
   },
   "outputs": [],
   "source": [
    "make_norm_table(park_test, x_test, 'test_norm_table.tex')"
   ]
  },
  {
   "cell_type": "code",
   "execution_count": null,
   "metadata": {
    "collapsed": true
   },
   "outputs": [],
   "source": []
  }
 ],
 "metadata": {
  "kernelspec": {
   "display_name": "Python 3",
   "language": "python",
   "name": "python3"
  },
  "language_info": {
   "codemirror_mode": {
    "name": "ipython",
    "version": 3
   },
   "file_extension": ".py",
   "mimetype": "text/x-python",
   "name": "python",
   "nbconvert_exporter": "python",
   "pygments_lexer": "ipython3",
   "version": "3.6.2"
  }
 },
 "nbformat": 4,
 "nbformat_minor": 2
}
